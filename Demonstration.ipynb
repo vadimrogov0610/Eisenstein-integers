{
 "cells": [
  {
   "cell_type": "code",
   "execution_count": 2,
   "id": "29d30647",
   "metadata": {},
   "outputs": [],
   "source": [
    "from ring import *"
   ]
  },
  {
   "cell_type": "markdown",
   "id": "5a9e0f03",
   "metadata": {},
   "source": [
    "# Main operations"
   ]
  },
  {
   "cell_type": "code",
   "execution_count": 3,
   "id": "9c84cab2",
   "metadata": {
    "scrolled": false
   },
   "outputs": [
    {
     "data": {
      "text/plain": [
       "(-2 + 5rho)"
      ]
     },
     "execution_count": 3,
     "metadata": {},
     "output_type": "execute_result"
    }
   ],
   "source": [
    "z = Ring(-2, 5)\n",
    "z"
   ]
  },
  {
   "cell_type": "code",
   "execution_count": 4,
   "id": "03b0473d",
   "metadata": {},
   "outputs": [
    {
     "data": {
      "text/plain": [
       "(3 + 4rho)"
      ]
     },
     "execution_count": 4,
     "metadata": {},
     "output_type": "execute_result"
    }
   ],
   "source": [
    "w = Ring(3, 4)\n",
    "w"
   ]
  },
  {
   "cell_type": "code",
   "execution_count": 5,
   "id": "7bfa9592",
   "metadata": {},
   "outputs": [
    {
     "data": {
      "text/plain": [
       "(-7 - 5rho)"
      ]
     },
     "execution_count": 5,
     "metadata": {},
     "output_type": "execute_result"
    }
   ],
   "source": [
    "z.conj"
   ]
  },
  {
   "cell_type": "code",
   "execution_count": 6,
   "id": "381806c5",
   "metadata": {},
   "outputs": [
    {
     "data": {
      "text/plain": [
       "39"
      ]
     },
     "execution_count": 6,
     "metadata": {},
     "output_type": "execute_result"
    }
   ],
   "source": [
    "z * z.conj"
   ]
  },
  {
   "cell_type": "code",
   "execution_count": 7,
   "id": "a74439fb",
   "metadata": {},
   "outputs": [
    {
     "data": {
      "text/plain": [
       "39"
      ]
     },
     "execution_count": 7,
     "metadata": {},
     "output_type": "execute_result"
    }
   ],
   "source": [
    "z.norm"
   ]
  },
  {
   "cell_type": "code",
   "execution_count": 8,
   "id": "a88a05a6",
   "metadata": {},
   "outputs": [
    {
     "data": {
      "text/plain": [
       "(1 + 9rho)"
      ]
     },
     "execution_count": 8,
     "metadata": {},
     "output_type": "execute_result"
    }
   ],
   "source": [
    "z + w"
   ]
  },
  {
   "cell_type": "code",
   "execution_count": 9,
   "id": "d263961a",
   "metadata": {},
   "outputs": [
    {
     "data": {
      "text/plain": [
       "(-26 - 13rho)"
      ]
     },
     "execution_count": 9,
     "metadata": {},
     "output_type": "execute_result"
    }
   ],
   "source": [
    "z * w"
   ]
  },
  {
   "cell_type": "code",
   "execution_count": 10,
   "id": "0816cf34",
   "metadata": {},
   "outputs": [
    {
     "data": {
      "text/plain": [
       "(2 + 2rho)"
      ]
     },
     "execution_count": 10,
     "metadata": {},
     "output_type": "execute_result"
    }
   ],
   "source": [
    "z // w"
   ]
  },
  {
   "cell_type": "code",
   "execution_count": 11,
   "id": "82ed4df6",
   "metadata": {},
   "outputs": [
    {
     "data": {
      "text/plain": [
       "-rho"
      ]
     },
     "execution_count": 11,
     "metadata": {},
     "output_type": "execute_result"
    }
   ],
   "source": [
    "z % w"
   ]
  },
  {
   "cell_type": "code",
   "execution_count": 12,
   "id": "fdac4b7e",
   "metadata": {},
   "outputs": [
    {
     "data": {
      "text/plain": [
       "(-1584 - 135rho)"
      ]
     },
     "execution_count": 12,
     "metadata": {},
     "output_type": "execute_result"
    }
   ],
   "source": [
    "z**4"
   ]
  },
  {
   "cell_type": "code",
   "execution_count": 13,
   "id": "184d80ce",
   "metadata": {},
   "outputs": [
    {
     "data": {
      "text/plain": [
       "(-4.5+4.330127018922193j)"
      ]
     },
     "execution_count": 13,
     "metadata": {},
     "output_type": "execute_result"
    }
   ],
   "source": [
    "z.eval  # The corresponding complex number"
   ]
  },
  {
   "cell_type": "markdown",
   "id": "cb87aa94",
   "metadata": {},
   "source": [
    "# More advanced methods"
   ]
  },
  {
   "cell_type": "code",
   "execution_count": 14,
   "id": "7264e57f",
   "metadata": {},
   "outputs": [
    {
     "data": {
      "text/plain": [
       "136.10211375198602"
      ]
     },
     "execution_count": 14,
     "metadata": {},
     "output_type": "execute_result"
    }
   ],
   "source": [
    "z.angle  # Complex arguement in degrees"
   ]
  },
  {
   "cell_type": "code",
   "execution_count": 15,
   "id": "5804c824",
   "metadata": {},
   "outputs": [
    {
     "data": {
      "text/plain": [
       "(7 + 2rho)"
      ]
     },
     "execution_count": 15,
     "metadata": {},
     "output_type": "execute_result"
    }
   ],
   "source": [
    "z.unique_associate()  # The associate with minimal angle (between 0 and 60)"
   ]
  },
  {
   "cell_type": "code",
   "execution_count": 16,
   "id": "8233b063",
   "metadata": {},
   "outputs": [
    {
     "data": {
      "text/plain": [
       "True"
      ]
     },
     "execution_count": 16,
     "metadata": {},
     "output_type": "execute_result"
    }
   ],
   "source": [
    "z.unique_associate().norm == z.norm"
   ]
  },
  {
   "cell_type": "code",
   "execution_count": 17,
   "id": "c0e5406c",
   "metadata": {},
   "outputs": [
    {
     "data": {
      "text/plain": [
       "(-1 - 1rho)"
      ]
     },
     "execution_count": 17,
     "metadata": {},
     "output_type": "execute_result"
    }
   ],
   "source": [
    "z.unique_associate() // z"
   ]
  },
  {
   "cell_type": "code",
   "execution_count": 18,
   "id": "e525df24",
   "metadata": {},
   "outputs": [
    {
     "data": {
      "text/plain": [
       "[(-2 + 5rho), (-7 - 2rho), (-5 - 7rho), (2 - 5rho), (7 + 2rho), (5 + 7rho)]"
      ]
     },
     "execution_count": 18,
     "metadata": {},
     "output_type": "execute_result"
    }
   ],
   "source": [
    "z.associate_orbit()"
   ]
  },
  {
   "cell_type": "code",
   "execution_count": 19,
   "id": "99ea112b",
   "metadata": {},
   "outputs": [
    {
     "data": {
      "image/png": "[encoded data removed]",
      "text/plain": [
       "<Figure size 432x432 with 1 Axes>"
      ]
     },
     "metadata": {
      "needs_background": "light"
     },
     "output_type": "display_data"
    }
   ],
   "source": [
    "plot_list(z.associate_orbit())"
   ]
  },
  {
   "cell_type": "code",
   "execution_count": 20,
   "id": "1616e832",
   "metadata": {},
   "outputs": [
    {
     "data": {
      "text/plain": [
       "[1, (1 + 1rho), rho, -1, (-1 - 1rho), -rho]"
      ]
     },
     "execution_count": 20,
     "metadata": {},
     "output_type": "execute_result"
    }
   ],
   "source": [
    "Ring.units()"
   ]
  },
  {
   "cell_type": "code",
   "execution_count": 21,
   "id": "574ec008",
   "metadata": {},
   "outputs": [
    {
     "data": {
      "text/plain": [
       "False"
      ]
     },
     "execution_count": 21,
     "metadata": {},
     "output_type": "execute_result"
    }
   ],
   "source": [
    "z.is_prime()"
   ]
  },
  {
   "cell_type": "markdown",
   "id": "b62f9925",
   "metadata": {},
   "source": [
    "# Operations in Euclidean Ring"
   ]
  },
  {
   "cell_type": "code",
   "execution_count": 22,
   "id": "99383643",
   "metadata": {},
   "outputs": [],
   "source": [
    "z = Ring(10, 13)\n",
    "w = Ring(-13, 28)"
   ]
  },
  {
   "cell_type": "code",
   "execution_count": 23,
   "id": "83a79dbc",
   "metadata": {},
   "outputs": [
    {
     "data": {
      "text/plain": [
       "[(-13 + 28rho), (10 + 13rho), (-4 - 2rho), -rho, 0]"
      ]
     },
     "execution_count": 23,
     "metadata": {},
     "output_type": "execute_result"
    }
   ],
   "source": [
    "euclidean_chain(w, z)  # chain from Euclidean algorithm"
   ]
  },
  {
   "cell_type": "code",
   "execution_count": 24,
   "id": "9110b388",
   "metadata": {},
   "outputs": [
    {
     "data": {
      "text/plain": [
       "-rho"
      ]
     },
     "execution_count": 24,
     "metadata": {},
     "output_type": "execute_result"
    }
   ],
   "source": [
    "gcd(w, z)"
   ]
  },
  {
   "cell_type": "code",
   "execution_count": 25,
   "id": "5c73f47a",
   "metadata": {},
   "outputs": [
    {
     "data": {
      "text/plain": [
       "1"
      ]
     },
     "execution_count": 25,
     "metadata": {},
     "output_type": "execute_result"
    }
   ],
   "source": [
    "gcd(w, z).norm"
   ]
  },
  {
   "cell_type": "markdown",
   "id": "b2c4b6e3",
   "metadata": {},
   "source": [
    "This means that `z` and `w` are coprime"
   ]
  },
  {
   "cell_type": "code",
   "execution_count": 26,
   "id": "d3d30302",
   "metadata": {},
   "outputs": [
    {
     "data": {
      "image/png": "[encoded data removed]",
      "text/plain": [
       "<Figure size 432x432 with 1 Axes>"
      ]
     },
     "metadata": {
      "needs_background": "light"
     },
     "output_type": "display_data"
    }
   ],
   "source": [
    "plot_list(euclidean_chain(Ring(6, -5), Ring(3, 5)))  # Draw euclidean chain"
   ]
  },
  {
   "cell_type": "markdown",
   "id": "d4bd0473",
   "metadata": {},
   "source": [
    "# Prime decomposition"
   ]
  },
  {
   "cell_type": "code",
   "execution_count": 27,
   "id": "c16546bd",
   "metadata": {},
   "outputs": [
    {
     "data": {
      "text/plain": [
       "(500 - 483rho)"
      ]
     },
     "execution_count": 27,
     "metadata": {},
     "output_type": "execute_result"
    }
   ],
   "source": [
    "q = Ring(500, -483)\n",
    "q"
   ]
  },
  {
   "cell_type": "code",
   "execution_count": 28,
   "id": "1fc27be6",
   "metadata": {},
   "outputs": [
    {
     "name": "stdout",
     "output_type": "stream",
     "text": [
      "(500 - 483rho) = (-1 - 1rho) * [(4 + 3rho) * (13 + 7rho) * (23 + 5rho)]\n"
     ]
    }
   ],
   "source": [
    "u, pr = q.prime_decomposition()\n",
    "print(f'{q} = {u} * [{\" * \".join(map(str, pr))}]')"
   ]
  },
  {
   "cell_type": "code",
   "execution_count": 29,
   "id": "228ab514",
   "metadata": {},
   "outputs": [
    {
     "name": "stdout",
     "output_type": "stream",
     "text": [
      "(4 + 3rho), norm = 13, angle = 46.10211375198602\n",
      "(13 + 7rho), norm = 127, angle = 32.54292390406174\n",
      "(23 + 5rho), norm = 439, angle = 11.927024181798592\n"
     ]
    }
   ],
   "source": [
    "for p in pr:\n",
    "    print(f'{p}, norm = {p.norm}, angle = {p.angle}')"
   ]
  },
  {
   "cell_type": "code",
   "execution_count": 30,
   "id": "888b5abf",
   "metadata": {},
   "outputs": [
    {
     "data": {
      "image/png": "[encoded data removed]",
      "text/plain": [
       "<Figure size 432x432 with 1 Axes>"
      ]
     },
     "metadata": {
      "needs_background": "light"
     },
     "output_type": "display_data"
    }
   ],
   "source": [
    "plot_list(pr)"
   ]
  },
  {
   "cell_type": "markdown",
   "id": "91188e2d",
   "metadata": {},
   "source": [
    "*All primes in decomposition are chosen with arguement in [0, 60)*"
   ]
  }
 ],
 "metadata": {
  "kernelspec": {
   "display_name": "Python 3 (ipykernel)",
   "language": "python",
   "name": "python3"
  },
  "language_info": {
   "codemirror_mode": {
    "name": "ipython",
    "version": 3
   },
   "file_extension": ".py",
   "mimetype": "text/x-python",
   "name": "python",
   "nbconvert_exporter": "python",
   "pygments_lexer": "ipython3",
   "version": "3.9.5"
  }
 },
 "nbformat": 4,
 "nbformat_minor": 5
}
